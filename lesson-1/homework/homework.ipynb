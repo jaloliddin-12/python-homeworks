{
 "cells": [
  {
   "cell_type": "code",
   "execution_count": 11,
   "id": "5b828511",
   "metadata": {},
   "outputs": [
    {
     "name": "stdout",
     "output_type": "stream",
     "text": [
      "P = 32, S = 63\n"
     ]
    }
   ],
   "source": [
    "a = 7\n",
    "b = 9\n",
    "P = 2*(a+b)\n",
    "S = a*b\n",
    "print(f\"P = {P}, S = {S}\")"
   ]
  },
  {
   "cell_type": "code",
   "execution_count": 9,
   "id": "1060ca7d",
   "metadata": {},
   "outputs": [
    {
     "name": "stdout",
     "output_type": "stream",
     "text": [
      "94.25 sm\n"
     ]
    }
   ],
   "source": [
    "import math\n",
    "\n",
    "d = 30\n",
    "L = math.pi*d\n",
    "\n",
    "print(f\"{round(L, 2)} sm\")"
   ]
  },
  {
   "cell_type": "code",
   "execution_count": null,
   "id": "c4a067fb",
   "metadata": {},
   "outputs": [
    {
     "name": "stdout",
     "output_type": "stream",
     "text": [
      "mean = 5.5\n"
     ]
    }
   ],
   "source": [
    "a = 4\n",
    "b = 7\n",
    " \n",
    "mean = (a+b)/2\n",
    "\n",
    "print(f\"mean = {mean}\")"
   ]
  },
  {
   "cell_type": "code",
   "execution_count": 23,
   "id": "43c3d3b8",
   "metadata": {},
   "outputs": [
    {
     "name": "stdout",
     "output_type": "stream",
     "text": [
      "442\n",
      "(121.0, 144.0)\n"
     ]
    }
   ],
   "source": [
    "import math\n",
    "\n",
    "def product(a, b):\n",
    "   return a*b\n",
    "\n",
    "def square(c, d):\n",
    "   return math.pow(c, 2), math.pow(d, 2)\n",
    "\n",
    "\n",
    "result1 = product(13, 34)\n",
    "print(result1)\n",
    "\n",
    "result2 = square(11, 12)\n",
    "print(result2)\n"
   ]
  }
 ],
 "metadata": {
  "kernelspec": {
   "display_name": "Python 3",
   "language": "python",
   "name": "python3"
  },
  "language_info": {
   "codemirror_mode": {
    "name": "ipython",
    "version": 3
   },
   "file_extension": ".py",
   "mimetype": "text/x-python",
   "name": "python",
   "nbconvert_exporter": "python",
   "pygments_lexer": "ipython3",
   "version": "3.13.2"
  }
 },
 "nbformat": 4,
 "nbformat_minor": 5
}
