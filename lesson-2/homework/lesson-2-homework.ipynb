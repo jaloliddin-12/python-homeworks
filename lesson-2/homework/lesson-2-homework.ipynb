{
 "cells": [
  {
   "cell_type": "code",
   "execution_count": 3,
   "id": "c6d26935",
   "metadata": {},
   "outputs": [
    {
     "name": "stdout",
     "output_type": "stream",
     "text": [
      "Name: Jaloliddin\n",
      "Year of Birth: 2005\n",
      "Age: 20\n"
     ]
    }
   ],
   "source": [
    "from datetime import datetime\n",
    "\n",
    "current_year = datetime.now().year\n",
    "\n",
    "name = input('What is your name?')\n",
    "dateofbirth = int(input('What is your date of birth?'))\n",
    "\n",
    "def age(dob):\n",
    "    return current_year - dob\n",
    "\n",
    "result = age(dateofbirth)\n",
    "\n",
    "print(\"Name:\", name)\n",
    "print(\"Year of Birth:\", dateofbirth)\n",
    "print(\"Age:\", result)"
   ]
  },
  {
   "cell_type": "code",
   "execution_count": 5,
   "id": "f590df7c",
   "metadata": {},
   "outputs": [
    {
     "name": "stdout",
     "output_type": "stream",
     "text": [
      "First car: Lasetti\n",
      "Second car: Malibu\n"
     ]
    }
   ],
   "source": [
    "word = 'LMaasleitbtui'\n",
    "\n",
    "even_letters = word[::2]\n",
    "\n",
    "odd_letters = word[1::2]\n",
    "\n",
    "print(\"First car:\", even_letters)\n",
    "print(\"Second car:\", odd_letters)"
   ]
  },
  {
   "cell_type": "code",
   "execution_count": 6,
   "id": "a08300b1",
   "metadata": {},
   "outputs": [
    {
     "name": "stdout",
     "output_type": "stream",
     "text": [
      "First car: Matiz\n",
      "Second car: Damas\n"
     ]
    }
   ],
   "source": [
    "word = 'MsaatmiazD'\n",
    "\n",
    "first_car = word[::2]\n",
    "\n",
    "second_car = word[-1::-2]\n",
    "\n",
    "print(\"First car:\", first_car)\n",
    "print(\"Second car:\", second_car)"
   ]
  },
  {
   "cell_type": "code",
   "execution_count": 8,
   "id": "1565c359",
   "metadata": {},
   "outputs": [
    {
     "name": "stdout",
     "output_type": "stream",
     "text": [
      "Residence area: London.\n"
     ]
    }
   ],
   "source": [
    "txt = \"I'am John. I am from London\"\n",
    "\n",
    "if \"London\" in txt:\n",
    "    print(f\"Residence area: London.\")\n",
    "else:\n",
    "    print(\"Residence area is not found\")"
   ]
  },
  {
   "cell_type": "code",
   "execution_count": 12,
   "id": "cfa5a97c",
   "metadata": {},
   "outputs": [
    {
     "name": "stdout",
     "output_type": "stream",
     "text": [
      "Word: mother, Reversed word: rehtom\n"
     ]
    }
   ],
   "source": [
    "word = input(\"What is the word?\")\n",
    "reversed_word = word[::-1]\n",
    "print(f\"Word: {word}, Reversed word: {reversed_word}\")"
   ]
  },
  {
   "cell_type": "code",
   "execution_count": 3,
   "id": "88d85b44",
   "metadata": {},
   "outputs": [
    {
     "name": "stdout",
     "output_type": "stream",
     "text": [
      "i want to be a DATA ANALYST\n",
      "The number of vowels in text: 9\n"
     ]
    }
   ],
   "source": [
    "text = input('Write the text.')\n",
    "\n",
    "vowels = \"euioaEUIOA\"\n",
    "\n",
    "count = 0\n",
    "\n",
    "for i in text:\n",
    "    if i in vowels:\n",
    "        count += 1\n",
    "\n",
    "print(text)\n",
    "print(f'The number of vowels in text: {count}')"
   ]
  },
  {
   "cell_type": "code",
   "execution_count": 5,
   "id": "ff1bcf21",
   "metadata": {},
   "outputs": [
    {
     "name": "stdout",
     "output_type": "stream",
     "text": [
      "1 11 2 22 43 34 \n",
      "The maximum value is: 43\n"
     ]
    }
   ],
   "source": [
    "numbers = input(\"Enter numbers separated by spaces: \")\n",
    "\n",
    "number_list = list(map(int, numbers.split()))\n",
    "\n",
    "max_value = max(number_list)\n",
    "\n",
    "print(numbers)\n",
    "print(f\"The maximum value is: {max_value}\")"
   ]
  },
  {
   "cell_type": "code",
   "execution_count": 7,
   "id": "e8379083",
   "metadata": {},
   "outputs": [
    {
     "name": "stdout",
     "output_type": "stream",
     "text": [
      "'kayak' is palindrome.\n"
     ]
    }
   ],
   "source": [
    "word = input('Write a word.')\n",
    "\n",
    "if word == word[::-1]:\n",
    "    print(f\"'{word}' is palindrome.\")\n",
    "else:\n",
    "    print(f\"'{word}' is not palindrome.\")    "
   ]
  },
  {
   "cell_type": "code",
   "execution_count": 8,
   "id": "45401837",
   "metadata": {},
   "outputs": [
    {
     "name": "stdout",
     "output_type": "stream",
     "text": [
      "Domain: gmail.com\n"
     ]
    }
   ],
   "source": [
    "email = input('Enter your email adress.')\n",
    "\n",
    "try:\n",
    "    domain = email.split('@')[1]\n",
    "    print(f\"Domain: {domain}\")\n",
    "except IndexError:\n",
    "    print(\"Invalid email address. Please include an '@' symbol.\")"
   ]
  },
  {
   "cell_type": "code",
   "execution_count": 10,
   "id": "ca5fd694",
   "metadata": {},
   "outputs": [
    {
     "name": "stdout",
     "output_type": "stream",
     "text": [
      "Generated password: NaDBIy8-\n"
     ]
    }
   ],
   "source": [
    "import random\n",
    "import string\n",
    "\n",
    "letters = string.ascii_letters  \n",
    "digits = string.digits           \n",
    "special_chars = string.punctuation \n",
    "\n",
    "all_chars = letters + digits + special_chars\n",
    "\n",
    "\n",
    "length = int(input(\"Enter desired password length: \"))\n",
    "\n",
    "\n",
    "password = [\n",
    "    random.choice(letters),\n",
    "    random.choice(digits),\n",
    "    random.choice(special_chars)\n",
    "]\n",
    "\n",
    "if length < 3:\n",
    "    print(\"Password length should be at least 3 to include all character types.\")\n",
    "else:\n",
    "    password += random.choices(all_chars, k=length - 3)\n",
    "    random.shuffle(password)  \n",
    "    final_password = ''.join(password)\n",
    "    print(f\"Generated password: {final_password}\")\n"
   ]
  }
 ],
 "metadata": {
  "kernelspec": {
   "display_name": "Python 3",
   "language": "python",
   "name": "python3"
  },
  "language_info": {
   "codemirror_mode": {
    "name": "ipython",
    "version": 3
   },
   "file_extension": ".py",
   "mimetype": "text/x-python",
   "name": "python",
   "nbconvert_exporter": "python",
   "pygments_lexer": "ipython3",
   "version": "3.13.2"
  }
 },
 "nbformat": 4,
 "nbformat_minor": 5
}
